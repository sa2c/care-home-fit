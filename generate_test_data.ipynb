{
 "cells": [
  {
   "cell_type": "markdown",
   "metadata": {},
   "source": [
    "* Additional covariate: Baseline intensity varies by care home size.\n",
    "* Data is daily number of cases from February to July. \n",
    "* 1000 Care homes\n",
    "* 330 homes had cases, 670 no cases\n",
    "* 2000 total cases\n",
    "* 50% homes received discharge transfer from hospital\n",
    "* 3000 discharges in total\n",
    "* Data Frame 1: 1 row per day, 1 column per care home ID, entries are numbers of cases\n",
    "* Data Frame 2: 1 row per day, 1 column per care home ID, entries are numbers of discharges\n",
    "* Data frame 3: 1 row per covariate, 1 column per care home ID, entries are covariates (to start with just one, care home size, likely as a category with 4 groups).\n"
   ]
  },
  {
   "cell_type": "code",
   "execution_count": 12,
   "metadata": {},
   "outputs": [],
   "source": [
    "MAX_BEDS_PER_HOME = 255\n",
    "MAX_CATEGORIES = 4\n",
    "\n",
    "FILE_SUFFIX = ''\n"
   ]
  },
  {
   "cell_type": "code",
   "execution_count": 13,
   "metadata": {},
   "outputs": [],
   "source": [
    "if FILE_SUFFIX == '':\n",
    "    N_CARE_HOMES = 1000\n",
    "    N_CASES = 2000\n",
    "    N_CASE_HOMES = 330\n",
    "    N_DISCHARGES = 3000\n",
    "    N_DISCHARGE_HOMES = 500\n",
    "    N_DAYS = 181\n",
    "    N_COVARIATES = 1\n",
    "\n",
    "elif FILE_SUFFIX == '_medium':\n",
    "    N_CARE_HOMES = 100\n",
    "    N_CASES = 200\n",
    "    N_CASE_HOMES = 33\n",
    "    N_DISCHARGES = 300\n",
    "    N_DISCHARGE_HOMES = 50\n",
    "    N_DAYS = 18\n",
    "    N_COVARIATES = 1"
   ]
  },
  {
   "cell_type": "code",
   "execution_count": 14,
   "metadata": {},
   "outputs": [],
   "source": [
    "import numpy as np\n",
    "\n",
    "cases = np.zeros((N_DAYS+1, N_CARE_HOMES), dtype=np.int32)\n",
    "discharges = np.zeros((N_DAYS+1, N_CARE_HOMES), dtype=np.int32)\n",
    "covariates = np.zeros((N_COVARIATES+1, N_CARE_HOMES), dtype=np.int32)"
   ]
  },
  {
   "cell_type": "code",
   "execution_count": 15,
   "metadata": {},
   "outputs": [],
   "source": [
    "MAX_CAREHOME_ID = 32767\n",
    "\n",
    "rng = np.random.default_rng()\n",
    "care_home_ids = rng.choice(MAX_CAREHOME_ID, size=N_CARE_HOMES, replace=False)\n",
    "\n",
    "for sample_array in cases, discharges, covariates:\n",
    "    sample_array[0] = rng.permutation(care_home_ids)\n",
    "    \n",
    "for sample_array, num_instances, num_places in (\n",
    "        (cases, N_CASES, N_CASE_HOMES), (discharges, N_DISCHARGES, N_DISCHARGE_HOMES)\n",
    "):\n",
    "    for _ in range(num_instances):\n",
    "        sample_array[1 + rng.integers(N_DAYS), rng.integers(num_places)] += 1\n",
    "\n",
    "covariates[1] = rng.choice(MAX_CATEGORIES, size=N_CARE_HOMES)"
   ]
  },
  {
   "cell_type": "code",
   "execution_count": 16,
   "metadata": {},
   "outputs": [],
   "source": [
    "np.savetxt(f\"covariates{FILE_SUFFIX}.csv\", covariates, fmt=\"%d\", delimiter=',')\n",
    "np.savetxt(f\"cases{FILE_SUFFIX}.csv\", cases, fmt=\"%d\", delimiter=',')\n",
    "np.savetxt(f\"discharges{FILE_SUFFIX}.csv\", discharges, fmt=\"%d\", delimiter=',')"
   ]
  },
  {
   "cell_type": "code",
   "execution_count": null,
   "metadata": {},
   "outputs": [],
   "source": []
  }
 ],
 "metadata": {
  "kernelspec": {
   "display_name": "Python 3",
   "language": "python",
   "name": "python3"
  },
  "language_info": {
   "codemirror_mode": {
    "name": "ipython",
    "version": 3
   },
   "file_extension": ".py",
   "mimetype": "text/x-python",
   "name": "python",
   "nbconvert_exporter": "python",
   "pygments_lexer": "ipython3",
   "version": "3.8.3"
  }
 },
 "nbformat": 4,
 "nbformat_minor": 2
}
