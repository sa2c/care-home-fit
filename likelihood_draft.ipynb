{
 "cells": [
  {
   "cell_type": "markdown",
   "metadata": {},
   "source": [
    "* Additional covariate: Baseline intensity varies by care home size.\n",
    "* Data is daily number of cases from February to July. \n",
    "* 1000 Care homes\n",
    "* 330 homes had cases, 670 no cases\n",
    "* 2000 total cases\n",
    "* 50% homes received discharge transfer from hospital\n",
    "* 3000 discharges in total\n",
    "* Data Frame 1: 1 row per day, 1 column per care home ID, entries are numbers of cases\n",
    "* Data Frame 2: 1 row per day, 1 column per care home ID, entries are numbers of discharges\n",
    "* Data frame 3: 1 row per covariate, 1 column per care home ID, entries are covariates (to start with just one, care home size, likely as a category with 4 groups).\n",
    "\n"
   ]
  },
  {
   "cell_type": "code",
   "execution_count": null,
   "metadata": {},
   "outputs": [],
   "source": [
    "MAX_BEDS_PER_HOME = 255\n",
    "MAX_CATEGORIES = 4\n",
    "\n",
    "N_CARE_HOMES = 1000\n",
    "N_CASES = 2000\n",
    "N_CASE_HOMES = 330\n",
    "N_DISCHARGES = 3000\n",
    "N_DISCHARGE_HOMES = 500\n",
    "N_DAYS = 181\n",
    "N_COVARIATES = 1"
   ]
  },
  {
   "cell_type": "code",
   "execution_count": 3,
   "metadata": {},
   "outputs": [],
   "source": [
    "COVARIATES_FILE = \"covariates.csv\"\n",
    "CASES_FILE = \"cases.csv\"\n",
    "DISCHARGES_FILE = \"discharges.csv\""
   ]
  },
  {
   "cell_type": "code",
   "execution_count": 17,
   "metadata": {},
   "outputs": [],
   "source": [
    "import numpy as np\n",
    "import scipy.stats"
   ]
  },
  {
   "cell_type": "code",
   "execution_count": 13,
   "metadata": {},
   "outputs": [],
   "source": [
    "def compactify(array):\n",
    "    '''Take an array of uint32s and returns it in the smallest datatype.'''\n",
    "    if array.max() < 256:\n",
    "        compact_array = array.astype('uint8')\n",
    "    elif array.max() < 65536:\n",
    "        compact_array = array.astype('uint16')\n",
    "    else:\n",
    "        compact_array = array\n",
    "    return compact_array\n",
    "\n",
    "\n",
    "def read_and_tidy_data(filename):\n",
    "    '''Read in the CSV file in `filename`, sort by the values in the first row\n",
    "    (i.e. ensure that data are sorted by care homes), then return separately\n",
    "    the first row (the ID list) and the subsequent data in the smallest data type\n",
    "    into which it will fit.\n",
    "    \n",
    "    Assumes all values are integers smaller than 2**32'''\n",
    "\n",
    "    read_data = np.loadtxt(filename, dtype=np.uint32, delimiter=',')\n",
    "    sorted_read_data = read_data[:, read_data[0, :].argsort()]\n",
    "    care_home_ids = compactify(sorted_read_data[0, :])\n",
    "    values = compactify(sorted_read_data[1:, :])\n",
    "    return care_home_ids, values\n",
    "    \n",
    "\n",
    "care_home_ids, cases = read_and_tidy_data(CASES_FILE)\n",
    "covariate_care_home_ids, covariates = read_and_tidy_data(COVARIATES_FILE)\n",
    "discharge_care_home_ids, discharges = read_and_tidy_data(DISCHARGES_FILE)"
   ]
  },
  {
   "cell_type": "code",
   "execution_count": 14,
   "metadata": {},
   "outputs": [],
   "source": [
    "assert np.equal(care_home_ids, covariate_care_home_ids).all()\n",
    "assert np.equal(care_home_ids, discharge_care_home_ids).all()"
   ]
  },
  {
   "cell_type": "markdown",
   "metadata": {},
   "source": [
    "Let the intensity of cases at care home $i$ on day $t$ be:\n",
    "\n",
    "$$\n",
    "    \\lambda_i(t) = v_i + r_c \\sum_{s<t} f_c (t - s)n_i(s) + r_h \\sum_{s<t} f_h(t-s) h_i(s)\n",
    "$$\n",
    "\n",
    "where:\n",
    "\n",
    "* $v_i$ is the baseline intensity, which depends on the size of the care home. Initially, band care home sizes into 4 groups, so $v_i$ becomes four free fit parameters\n",
    "* $r_c$ is the self-excitation parameter, representing the increased risk of an outbreak following an introduction of a case\n",
    "* $r_h$ is the excitation by hospital paramteter, representing the increased risk of an outbreak following a hospital transfer\n",
    "* $s$ and $t$ are integer numbers of days\n",
    "* $f_c(t)$, $f_h(t)$ are probability distributions\n",
    "\n",
    "The distribution $f_c(t)$ is approximated by the serial case interval distribution $\\mathrm{gamma}(6.5, 0.62)$. In this definition the two parameters to $\\mathrm{gamma}$ are the _mean_ $E$ and the _coefficient of variation_ $c_v$. Scipy's definition of the gamma PDF instead takes the _shape_ parameter $k$ and the _scale_ parameter $\\theta$.\n",
    "\n",
    "The mean $E=k\\theta$, and the coefficient of variation is $c_v=\\sigma/E=1/\\sqrt{k}$. Thus to obtain the parameters needed:\n",
    "\n",
    "$$\n",
    "\\begin{align}\n",
    "    k &= c_v^{-2} \\\\\n",
    "    \\theta &= \\frac{E}{k} = E c_v^2\n",
    "\\end{align}\n",
    "$$"
   ]
  },
  {
   "cell_type": "code",
   "execution_count": 25,
   "metadata": {},
   "outputs": [],
   "source": [
    "# Define parameters for excitation distributions\n",
    "\n",
    "self_excitation_mean = 6.5\n",
    "self_excitation_cv = 0.62\n",
    "\n",
    "discharge_excitation_mean = self_excitation_mean\n",
    "discharge_excitation_cv = self_excitation_cv\n",
    "\n",
    "self_excitation_shape = self_excitation_cv ** -2\n",
    "self_excitation_scale = self_excitation_mean * self_excitation_cv ** 2\n",
    "\n",
    "discharge_excitation_shape = discharge_excitation_cv ** -2\n",
    "discharge_excitation_scale = discharge_excitation_mean * discharge_excitation_cv ** 2"
   ]
  },
  {
   "cell_type": "code",
   "execution_count": 51,
   "metadata": {},
   "outputs": [],
   "source": [
    "def carehome_intensity_null(covariates, cases, baseline_intensities):\n",
    "    '''\n",
    "    Returns the intensity of cases at all care homes on all dates, assuming no\n",
    "    effect due to cases or discharges.\n",
    "    Shape is (N_DATES, N_CARE_HOMES).\n",
    "    Requires:\n",
    "    Input data:\n",
    "     - covariates: a (1, N_CARE_HOMES) array of care home size bands\n",
    "     - cases: an (N_DATES, N_CARE_HOMES) array of integers representing\n",
    "              the number of cases at a given care home on a given day\n",
    "    Fit parameters:\n",
    "     - baseline_intensities: a 1d array of baseline intensities as a function of\n",
    "                             care home size band\n",
    "    '''\n",
    "    return np.zeros_like(cases, dtype=np.float64) + baseline_intensities[covariates]\n",
    "\n",
    "\n",
    "def single_excitation(triggers, shape, scale):\n",
    "    '''\n",
    "    Calculates a single set of excitation terms in the form\n",
    "        e_i(t) = \\\\sum_{s<t} f(t - s) triggers_i(s)\n",
    "    where f is the gamma pdf with given shape and scale,\n",
    "    and triggers is a 2-d array indexed as (t, i)'''\n",
    "\n",
    "    n_dates, n_care_homes = triggers.shape\n",
    "    date_range = np.arange(n_dates)[:, np.newaxis]\n",
    "\n",
    "    full_f_c = scipy.stats.gamma.pdf(n_dates - date_range, a=shape, scale=scale)\n",
    "    output = np.zeros_like(triggers, dtype=np.float64)\n",
    "\n",
    "    for s in range(n_dates):\n",
    "        output[s:] += full_f_c[s:] * triggers[s]\n",
    "    return output\n",
    "\n",
    "\n",
    "def carehome_intensity(covariates, cases, baseline_intensities, r_c, discharges=None, r_h=None):\n",
    "    '''\n",
    "    Returns the intensity of cases at all care homes on all dates.\n",
    "    Shape is (N_DATES, N_CARE_HOMES).\n",
    "    Requires:\n",
    "    Input data:\n",
    "     - covariates: a (1, N_CARE_HOMES) array of care home size bands\n",
    "     - cases: an (N_DATES, N_CARE_HOMES) array of integers representing\n",
    "              the number of cases at a given care home on a given day\n",
    "     - discharges: an (N_DATES, N_CARE_HOMES array of integers representing\n",
    "              the number of discharges from hospital into a given care home\n",
    "              on a given day\n",
    "    Fit parameters:\n",
    "     - baseline_intensities: a 1d array of baseline intensities as a function of\n",
    "                             care home size band\n",
    "     - r_c: self-excitation\n",
    "     - r_h: excitation by hospital. If None, then calculation of this term is skipped\n",
    "    '''\n",
    "\n",
    "    output = carehome_intensity_null(covariates, cases, baseline_intensities)\n",
    "    output += r_c * single_excitation(cases, self_excitation_shape, self_excitation_scale)\n",
    "    \n",
    "    if r_h is not None:\n",
    "        output += r_c * single_excitation(discharges, discharge_excitation_shape, discharge_excitation_scale)\n",
    "    \n",
    "    return output"
   ]
  },
  {
   "cell_type": "code",
   "execution_count": 50,
   "metadata": {},
   "outputs": [],
   "source": [
    "# Arbitrary test data\n",
    "baseline_intensities = np.asarray([0.5, 1.0, 1.5, 2.0])\n",
    "r_c = 0.9\n",
    "r_h = 0.5"
   ]
  },
  {
   "cell_type": "code",
   "execution_count": 54,
   "metadata": {},
   "outputs": [
    {
     "name": "stdout",
     "output_type": "stream",
     "text": [
      "253 µs ± 4.38 µs per loop (mean ± std. dev. of 7 runs, 1000 loops each)\n",
      "87.5 ms ± 676 µs per loop (mean ± std. dev. of 7 runs, 10 loops each)\n",
      "174 ms ± 1.05 ms per loop (mean ± std. dev. of 7 runs, 10 loops each)\n"
     ]
    }
   ],
   "source": [
    "%timeit carehome_intensity_null(covariates, cases, baseline_intensities)\n",
    "%timeit carehome_intensity(covariates, cases, baseline_intensities, r_c)\n",
    "%timeit carehome_intensity(covariates, cases, baseline_intensities, r_c, discharges, r_h)"
   ]
  },
  {
   "cell_type": "code",
   "execution_count": 58,
   "metadata": {},
   "outputs": [],
   "source": [
    "def likelihood(intensity, cases):\n",
    "    '''\n",
    "    Sum the following over all care homes i: data on days t=1, 2, ..., T\n",
    "    with cases observed on days t_{i;j}, then use log-likelihood\n",
    "        \\sum_j \\ln \\lambda_i (t_{i;j}) - \\sum_{t=1}^T \\lambda_i (t)\n",
    "    '''\n",
    "\n",
    "    return np.sum(np.log(intensity[cases > 0])) - np.sum(intensity)"
   ]
  },
  {
   "cell_type": "code",
   "execution_count": 60,
   "metadata": {},
   "outputs": [
    {
     "name": "stdout",
     "output_type": "stream",
     "text": [
      "-227664.7330609811\n",
      "-229371.4374904857\n",
      "-231970.126054767\n"
     ]
    }
   ],
   "source": [
    "print(likelihood(carehome_intensity_null(covariates, cases, baseline_intensities), cases))\n",
    "print(likelihood(carehome_intensity(covariates, cases, baseline_intensities, r_c), cases))\n",
    "print(likelihood(carehome_intensity(covariates, cases, baseline_intensities, r_c, discharges, r_h), cases))"
   ]
  },
  {
   "cell_type": "code",
   "execution_count": 62,
   "metadata": {},
   "outputs": [
    {
     "name": "stdout",
     "output_type": "stream",
     "text": [
      "655 µs ± 16.9 µs per loop (mean ± std. dev. of 7 runs, 1000 loops each)\n",
      "93.1 ms ± 661 µs per loop (mean ± std. dev. of 7 runs, 10 loops each)\n",
      "197 ms ± 9.25 ms per loop (mean ± std. dev. of 7 runs, 10 loops each)\n"
     ]
    }
   ],
   "source": [
    "%timeit likelihood(carehome_intensity_null(covariates, cases, baseline_intensities), cases)\n",
    "%timeit likelihood(carehome_intensity(covariates, cases, baseline_intensities, r_c), cases)\n",
    "%timeit likelihood(carehome_intensity(covariates, cases, baseline_intensities, r_c, discharges, r_h), cases)"
   ]
  },
  {
   "cell_type": "code",
   "execution_count": null,
   "metadata": {},
   "outputs": [],
   "source": []
  }
 ],
 "metadata": {
  "kernelspec": {
   "display_name": "Python 3",
   "language": "python",
   "name": "python3"
  },
  "language_info": {
   "codemirror_mode": {
    "name": "ipython",
    "version": 3
   },
   "file_extension": ".py",
   "mimetype": "text/x-python",
   "name": "python",
   "nbconvert_exporter": "python",
   "pygments_lexer": "ipython3",
   "version": "3.6.8"
  }
 },
 "nbformat": 4,
 "nbformat_minor": 2
}
